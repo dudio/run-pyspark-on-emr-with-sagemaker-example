{
 "cells": [
  {
   "cell_type": "markdown",
   "metadata": {},
   "source": [
    "# Prepare\n",
    "\n",
    "- IAM\n",
    "    * Attach policy `AmazonElasticMapReduceFullAccess` to IAM role which excute sagemaker"
   ]
  },
  {
   "cell_type": "markdown",
   "metadata": {},
   "source": [
    "## Create S3 bucket and upload sample data"
   ]
  },
  {
   "cell_type": "code",
   "execution_count": null,
   "metadata": {},
   "outputs": [],
   "source": [
    "import sagemaker\n",
    "import os\n",
    "import boto3\n",
    "import json\n",
    "import time\n",
    "import shutil\n",
    "\n",
    "sagemaker_session_bucket = None\n",
    "if sagemaker_session_bucket is None:\n",
    "    # set to default bucket if a bucket name is not given\n",
    "    # sagemaker will automatically create this bucket if it not exists\n",
    "    sess = sagemaker.Session()\n",
    "    sagemaker_session_bucket = sess.default_bucket()\n",
    "\n",
    "print(f\"sagemaker bucket: {sagemaker_session_bucket}\")\n",
    "\n",
    "s3_prefix = 'emr-demo/'\n",
    "\n",
    "s3 = boto3.resource('s3')\n",
    "sage_bucket = s3.Bucket(sagemaker_session_bucket)\n",
    "\n",
    "# upload demo_data file to s3\n",
    "s3_client = boto3.client('s3')\n",
    "demo_data_file = 'demo_data.csv'\n",
    "demo_data_key = s3_prefix+demo_data_file\n",
    "s3_client.upload_file(demo_data_file, sagemaker_session_bucket, demo_data_key)\n",
    "\n",
    "s3_output = s3_prefix+'output/'\n",
    "\n",
    "# write s3 path setting\n",
    "with open(\"emr_get_s3_path.py\", \"w+\") as f:\n",
    "    f.write(f\"sagemaker_session_bucket = '{sagemaker_session_bucket}'\\n\")\n",
    "    f.write(f\"demo_data_key = '{demo_data_key}'\\n\")\n",
    "    f.write(f\"s3_output = '{s3_output}'\")\n"
   ]
  },
  {
   "cell_type": "markdown",
   "metadata": {},
   "source": [
    "## Create security group for emr livy server"
   ]
  },
  {
   "cell_type": "code",
   "execution_count": null,
   "metadata": {},
   "outputs": [],
   "source": [
    "instance_ip = !curl -s 'http://ifconfig.co'\n",
    "instance_ip = instance_ip[0]\n",
    "print(f\"instance ip: {instance_ip}\")\n"
   ]
  },
  {
   "cell_type": "code",
   "execution_count": null,
   "metadata": {},
   "outputs": [],
   "source": [
    "ec2 = boto3.client('ec2')\n",
    "response = ec2.describe_vpcs()\n",
    "vpc_id = response.get('Vpcs', [{}])[0].get('VpcId', '')\n",
    "\n",
    "response = ec2.create_security_group(GroupName='EMR_LIVY',\n",
    "                                     Description='EMR_LIVY',\n",
    "                                     VpcId=vpc_id)\n",
    "security_group_id = response['GroupId']\n",
    "print('Security Group Created %s in vpc %s.' % (security_group_id, vpc_id))\n",
    "\n",
    "data = ec2.authorize_security_group_ingress(\n",
    "    GroupId=security_group_id,\n",
    "    IpPermissions=[\n",
    "        {'IpProtocol': 'tcp',\n",
    "         'FromPort': 8998,\n",
    "         'ToPort': 8998,\n",
    "         'IpRanges': [{\n",
    "             'CidrIp': f'{instance_ip}/32',\n",
    "             'Description': 'Livy Server'\n",
    "         }]}\n",
    "    ])\n",
    "print('Ingress Successfully Set %s' % data)\n"
   ]
  },
  {
   "cell_type": "markdown",
   "metadata": {},
   "source": [
    "## Create EMR cluster, and get cluster_id\n",
    "1. if you need more than one instance, make sure the ec2 limit is enough.  \n",
    "https://docs.aws.amazon.com/servicequotas/latest/userguide/request-quota-increase.html\n",
    "2. You could create cluster on EMR Console either, just remember copy and paste `cluster_id = ...`"
   ]
  },
  {
   "cell_type": "code",
   "execution_count": null,
   "metadata": {},
   "outputs": [],
   "source": [
    "# emr 6.7.0\n",
    "# master: r5.xlarge x1\n",
    "# if you need more than one instance, make sure the ec2 limit is enough.\n",
    "# https://docs.aws.amazon.com/servicequotas/latest/userguide/request-quota-increase.html\n",
    "cluster_name = 'emr-demo'\n",
    "s3_emr_log = f\"s3n://{s3_prefix}log/\"\n",
    "region = boto3.Session().region_name\n",
    "\n",
    "# You could replace this with EMR cluster / AWS Cli export, but remember remove field `--os-release-label XX.XXX.XXX`\n",
    "response = !./create_cluster.sh {cluster_name} {s3_emr_log} {security_group_id} {region}\n",
    "\n",
    "cluster_id = json.loads(\"\".join(response))[\"ClusterId\"]\n",
    "print(f\"cluster_id = {cluster_id}\")"
   ]
  },
  {
   "cell_type": "markdown",
   "metadata": {},
   "source": [
    "## Wait cluster ready, then get master_ip\n",
    "Wait 7 mins first, then check per 10 sec."
   ]
  },
  {
   "cell_type": "code",
   "execution_count": null,
   "metadata": {},
   "outputs": [],
   "source": [
    "master_ip = \"\"\n",
    "time.sleep(420)\n",
    "while True:\n",
    "    response = !aws emr describe-cluster --cluster-id {cluster_id}\n",
    "    json_str = \"\".join(response)\n",
    "    try:\n",
    "        cluster_data = json.loads(json_str)\n",
    "    except:\n",
    "        print(json_str)\n",
    "        print(\"[ERROR] Create cluster fail.\")\n",
    "        break\n",
    "    cluster_state = cluster_data[\"Cluster\"][\"Status\"][\"State\"]\n",
    "    print(f\"EMR cluster state: {cluster_state}\")\n",
    "    if cluster_state == \"STARTING\":\n",
    "        time.sleep(10)\n",
    "    else:\n",
    "        master_ip = \".\".join(cluster_data[\"Cluster\"][\"MasterPublicDnsName\"].split(\".\")[0].split(\"-\")[1:])\n",
    "        print(f\"master ip = {master_ip}\")\n",
    "        break\n"
   ]
  },
  {
   "cell_type": "markdown",
   "metadata": {},
   "source": [
    "## Run livy code, start session and get session_id"
   ]
  },
  {
   "cell_type": "code",
   "execution_count": null,
   "metadata": {},
   "outputs": [],
   "source": [
    "def create_session():\n",
    "    r = !./livy_create_session.sh {master_ip}\n",
    "    # print(r)\n",
    "    try:\n",
    "        session_id = json.loads(r[-1])['id']\n",
    "        return session_id\n",
    "    except:\n",
    "        print(\"[ERROR] create livy session fail\")\n",
    "        if len(r) > 0:\n",
    "            print(r[-1])\n",
    "        return None\n",
    "\n",
    "session_id = create_session()\n",
    "print(f\"livy session is starting, id= {session_id}\")"
   ]
  },
  {
   "cell_type": "markdown",
   "metadata": {},
   "source": [
    "## Confirm session state, it should be idle"
   ]
  },
  {
   "cell_type": "code",
   "execution_count": null,
   "metadata": {},
   "outputs": [],
   "source": [
    "def get_session_state():\n",
    "    r = !./livy_get_session_state.sh {master_ip} {session_id}\n",
    "    try:\n",
    "        state = json.loads(r[-1])['state']\n",
    "        return state\n",
    "    except:\n",
    "        print(\"[ERROR] get livy session state fail\")\n",
    "        if len(r) > 0:\n",
    "            print(r[-1])\n",
    "        return None\n",
    "while True:\n",
    "    session_state = get_session_state()\n",
    "    print (f\"session state = {session_state}\")\n",
    "    if session_state == \"starting\":\n",
    "        time.sleep(5)\n",
    "    elif session_state == \"idle\":\n",
    "        print(f\"session start complete, state: {session_state}\")\n",
    "        break\n",
    "    else:\n",
    "        print(f\"[ERROR] livy session start fail, state: {session_state}\")\n",
    "        break\n",
    "        \n",
    "\n",
    "\n"
   ]
  },
  {
   "cell_type": "markdown",
   "metadata": {},
   "source": [
    "## Make sure emr s3 output folder is empty"
   ]
  },
  {
   "cell_type": "code",
   "execution_count": null,
   "metadata": {},
   "outputs": [],
   "source": [
    "\n",
    "sage_bucket.objects.filter(Prefix=s3_output).delete()\n"
   ]
  },
  {
   "cell_type": "markdown",
   "metadata": {},
   "source": [
    "## (function) Send pyfile to a livy statement"
   ]
  },
  {
   "cell_type": "code",
   "execution_count": null,
   "metadata": {},
   "outputs": [],
   "source": [
    "def add_file_to_statement(pyfile):\n",
    "    try:\n",
    "        with open(pyfile, 'r') as emr_code:\n",
    "            # \\\\\\n\n",
    "            json_str = json.dumps({\"code\":emr_code.read().replace(\"\\\\\\n\", \"\").replace(\"\\\\\", \"\\\\\\\\\")})\n",
    "            json_str_len = len(json_str)\n",
    "            print(f\"Send char num: {json_str_len}\")\n",
    "    except:\n",
    "        print(f\"[ERROR] File {pyfile} not exists nor accessible\")\n",
    "        return None\n",
    "            \n",
    "    with open('emr_json_code', 'w') as emr_json_code:\n",
    "        emr_json_code.write(json_str)\n",
    "\n",
    "    if session_id != None:\n",
    "        r = !./livy_add_statement.sh {master_ip} {session_id}\n",
    "        try:\n",
    "            statement_id = json.loads(r[-1])[\"id\"]\n",
    "            print(f\"Send {pyfile} to EMR success, statement id = {statement_id}\")\n",
    "            return statement_id\n",
    "        except:\n",
    "            print(\"[ERROR] {} send fail, chat number: {}\".format(pyfile, json_str_len))\n",
    "            print(\"\".join(r))\n",
    "            return None\n",
    "\n",
    "\n"
   ]
  },
  {
   "cell_type": "markdown",
   "metadata": {},
   "source": [
    "## (function) Show livy statement output"
   ]
  },
  {
   "cell_type": "code",
   "execution_count": null,
   "metadata": {},
   "outputs": [],
   "source": [
    "\n",
    "def get_result(statement_id, delay=5, max_wait=18000):\n",
    "    if statement_id == None:\n",
    "        print(\"[ERROR] statement_id not availible.\")\n",
    "        return False\n",
    "    wait = 0\n",
    "    while (wait < max_wait):\n",
    "        print(\"wait....\")\n",
    "        r = !./livy_show_result.sh {master_ip} {session_id} {statement_id}\n",
    "        try:\n",
    "            output = json.loads(r[-1])\n",
    "            statement_state = output[\"state\"]\n",
    "        except:\n",
    "            print(r)\n",
    "            return False\n",
    "        if statement_state == \"available\":\n",
    "            try:\n",
    "                if output[\"output\"]['status'] == 'error':\n",
    "                    print(\"[ERROR] {}\".format(output[\"output\"][\"ename\"]))\n",
    "                    print(\"[ERROR] {}\".format(output[\"output\"][\"evalue\"]))\n",
    "                    return False\n",
    "                print(f\"statement id {statement_id} excute success and take {wait} seconds\")\n",
    "                if output[\"output\"][\"data\"]['text/plain'] != \"\":\n",
    "                    print(output[\"output\"][\"data\"]['text/plain'])\n",
    "                return True\n",
    "            except:\n",
    "                print(\"[ERROR] \"+\"\".join(r))\n",
    "                return False\n",
    "        elif statement_state == \"running\":\n",
    "            time.sleep(delay)\n",
    "            wait += delay\n",
    "        elif statement_state == \"waiting\":\n",
    "            time.sleep(delay)\n",
    "        else:\n",
    "            print (f\"[ERROR] statement state = {statement_state}\")\n",
    "            return False\n",
    "    print(f\"[ERROR] Already wait for {max_wait} sec, still not get result, and this statement may still running.\")\n",
    "    return False\n",
    "\n",
    "\n",
    "\n"
   ]
  },
  {
   "cell_type": "markdown",
   "metadata": {},
   "source": [
    "## Send code to livy statement, and wait for result"
   ]
  },
  {
   "cell_type": "code",
   "execution_count": null,
   "metadata": {},
   "outputs": [],
   "source": [
    "statement_id = add_file_to_statement('emr_get_s3_path.py')\n",
    "get_result(statement_id)"
   ]
  },
  {
   "cell_type": "code",
   "execution_count": null,
   "metadata": {},
   "outputs": [],
   "source": [
    "statement_id = add_file_to_statement('emr_code.py')\n",
    "get_result(statement_id)"
   ]
  },
  {
   "cell_type": "markdown",
   "metadata": {},
   "source": [
    "## Terminate EMR Cluster"
   ]
  },
  {
   "cell_type": "code",
   "execution_count": null,
   "metadata": {},
   "outputs": [],
   "source": [
    "response = !aws emr terminate-clusters --cluster-ids {cluster_id}\n",
    "if response == []:\n",
    "    print(f\"Terminate emr cluster success: {cluster_id}\")\n",
    "else:\n",
    "    print(f\"Terminate emr cluster fail: {cluster_id}\")\n",
    "    print(response)"
   ]
  },
  {
   "cell_type": "markdown",
   "metadata": {},
   "source": [
    "## Download s3 output data"
   ]
  },
  {
   "cell_type": "code",
   "execution_count": null,
   "metadata": {},
   "outputs": [],
   "source": [
    "\n",
    "\n",
    "if os.path.exists(s3_output) is True:\n",
    "    shutil.rmtree(s3_output, ignore_errors=True)\n",
    "\n",
    "# generate a local folder\n",
    "os.makedirs(s3_output)\n",
    "\n",
    "# download s3 obj\n",
    "for obj in sage_bucket.objects.filter(Prefix=s3_output):\n",
    "    sage_bucket.download_file(obj.key, obj.key)\n",
    "\n",
    "\n"
   ]
  },
  {
   "cell_type": "code",
   "execution_count": null,
   "metadata": {},
   "outputs": [],
   "source": [
    "from pyspark.sql import SparkSession\n",
    "\n",
    "spark = SparkSession.builder \\\n",
    "    .master(\"local[*]\") \\\n",
    "    .getOrCreate()\n",
    "\n",
    "spark.read \\\n",
    "    .option(\"header\", \"true\") \\\n",
    "    .load(s3_output).show()"
   ]
  },
  {
   "cell_type": "markdown",
   "metadata": {},
   "source": [
    "## Delete security group for livy server, must wait all dependency obj(EMR) terminated."
   ]
  },
  {
   "cell_type": "code",
   "execution_count": null,
   "metadata": {},
   "outputs": [],
   "source": [
    "response = ec2.delete_security_group(GroupId=security_group_id)\n",
    "print('Security Group Deleted')\n"
   ]
  },
  {
   "cell_type": "code",
   "execution_count": null,
   "metadata": {},
   "outputs": [],
   "source": []
  }
 ],
 "metadata": {
  "kernelspec": {
   "display_name": "conda_python3",
   "language": "python",
   "name": "conda_python3"
  },
  "language_info": {
   "codemirror_mode": {
    "name": "ipython",
    "version": 3
   },
   "file_extension": ".py",
   "mimetype": "text/x-python",
   "name": "python",
   "nbconvert_exporter": "python",
   "pygments_lexer": "ipython3",
   "version": "3.8.12"
  }
 },
 "nbformat": 4,
 "nbformat_minor": 4
}
